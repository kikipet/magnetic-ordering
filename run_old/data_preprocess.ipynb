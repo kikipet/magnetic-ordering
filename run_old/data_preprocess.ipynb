{
 "cells": [
  {
   "cell_type": "code",
   "execution_count": 8,
   "metadata": {},
   "outputs": [],
   "source": [
    "from e3nn.point.data_helpers import DataPeriodicNeighbors\n",
    "from pymatgen.ext.matproj import MPRester\n",
    "import pymatgen.analysis.magnetism.analyzer as pg\n",
    "import numpy as np\n",
    "from mendeleev import element\n",
    "import time, pickle\n",
    "import torch\n",
    "import torch_geometric"
   ]
  },
  {
   "cell_type": "code",
   "execution_count": null,
   "metadata": {},
   "outputs": [],
   "source": [
    "import pickle\n",
    "\n",
    "def load_obj(filename):\n",
    "    return pickle.load(open(filename, \"rb\"))\n",
    "\n",
    "def save_obj(obj, filename):\n",
    "    pickle.dump(obj, open(filename, \"wb\"))"
   ]
  },
  {
   "cell_type": "code",
   "execution_count": 3,
   "metadata": {},
   "outputs": [],
   "source": [
    "res = torch.load('220204-0000_data.pt')"
   ]
  },
  {
   "cell_type": "code",
   "execution_count": 5,
   "metadata": {},
   "outputs": [
    {
     "data": {
      "text/plain": [
       "6447"
      ]
     },
     "execution_count": 5,
     "metadata": {},
     "output_type": "execute_result"
    }
   ],
   "source": [
    "len(res) # that's like the majority of the things right?"
   ]
  },
  {
   "cell_type": "code",
   "execution_count": 31,
   "metadata": {},
   "outputs": [
    {
     "data": {
      "text/plain": [
       "DataPeriodicNeighbors(x=[42, 354], edge_index=[2, 1794], edge_attr=[1794, 3], y=[1], pos=[42, 3], n_norm=35, lattice=[3, 3])"
      ]
     },
     "execution_count": 31,
     "metadata": {},
     "output_type": "execute_result"
    }
   ],
   "source": [
    "res[0] # question: where did DataPeriodicNeighbors and/or DataNeighbors go?"
   ]
  },
  {
   "cell_type": "code",
   "execution_count": 30,
   "metadata": {},
   "outputs": [
    {
     "data": {
      "text/plain": [
       "dict_keys(['x', 'edge_index', 'edge_attr', 'y', 'pos', 'n_norm', 'lattice'])"
      ]
     },
     "execution_count": 30,
     "metadata": {},
     "output_type": "execute_result"
    }
   ],
   "source": [
    "dict(res[0]._store).keys()"
   ]
  },
  {
   "cell_type": "code",
   "execution_count": 9,
   "metadata": {},
   "outputs": [],
   "source": [
    "batch_size = 1"
   ]
  },
  {
   "cell_type": "code",
   "execution_count": 12,
   "metadata": {},
   "outputs": [],
   "source": [
    "dataloader = torch_geometric.loader.DataLoader([res[i] for i in range(10)], batch_size=batch_size, shuffle=True) # change data.DataLoader to loader.DataLoader"
   ]
  },
  {
   "cell_type": "code",
   "execution_count": 20,
   "metadata": {},
   "outputs": [
    {
     "data": {
      "text/plain": [
       "{'follow_batch': None,\n",
       " 'exclude_keys': None,\n",
       " 'dataset': [DataPeriodicNeighbors(x=[42, 354], edge_index=[2, 1794], edge_attr=[1794, 3], y=[1], pos=[42, 3], n_norm=35, lattice=[3, 3]),\n",
       "  DataPeriodicNeighbors(x=[20, 354], edge_index=[2, 944], edge_attr=[944, 3], y=[1], pos=[20, 3], n_norm=35, lattice=[3, 3]),\n",
       "  DataPeriodicNeighbors(x=[8, 354], edge_index=[2, 308], edge_attr=[308, 3], y=[1], pos=[8, 3], n_norm=35, lattice=[3, 3]),\n",
       "  DataPeriodicNeighbors(x=[22, 354], edge_index=[2, 1264], edge_attr=[1264, 3], y=[1], pos=[22, 3], n_norm=35, lattice=[3, 3]),\n",
       "  DataPeriodicNeighbors(x=[42, 354], edge_index=[2, 1494], edge_attr=[1494, 3], y=[1], pos=[42, 3], n_norm=35, lattice=[3, 3]),\n",
       "  DataPeriodicNeighbors(x=[20, 354], edge_index=[2, 828], edge_attr=[828, 3], y=[1], pos=[20, 3], n_norm=35, lattice=[3, 3]),\n",
       "  DataPeriodicNeighbors(x=[28, 354], edge_index=[2, 888], edge_attr=[888, 3], y=[1], pos=[28, 3], n_norm=35, lattice=[3, 3]),\n",
       "  DataPeriodicNeighbors(x=[24, 354], edge_index=[2, 932], edge_attr=[932, 3], y=[1], pos=[24, 3], n_norm=35, lattice=[3, 3]),\n",
       "  DataPeriodicNeighbors(x=[32, 354], edge_index=[2, 1184], edge_attr=[1184, 3], y=[1], pos=[32, 3], n_norm=35, lattice=[3, 3]),\n",
       "  DataPeriodicNeighbors(x=[20, 354], edge_index=[2, 704], edge_attr=[704, 3], y=[1], pos=[20, 3], n_norm=35, lattice=[3, 3])],\n",
       " 'num_workers': 0,\n",
       " 'prefetch_factor': 2,\n",
       " 'pin_memory': False,\n",
       " 'timeout': 0,\n",
       " 'worker_init_fn': None,\n",
       " '_DataLoader__multiprocessing_context': None,\n",
       " '_dataset_kind': 0,\n",
       " 'batch_size': 1,\n",
       " 'drop_last': False,\n",
       " 'sampler': <torch.utils.data.sampler.RandomSampler at 0x7f219ddd2ac0>,\n",
       " 'batch_sampler': <torch.utils.data.sampler.BatchSampler at 0x7f219ddd2a30>,\n",
       " 'generator': None,\n",
       " 'collate_fn': <torch_geometric.loader.dataloader.Collater at 0x7f219ddd2b50>,\n",
       " 'persistent_workers': False,\n",
       " '_DataLoader__initialized': True,\n",
       " '_IterableDataset_len_called': None,\n",
       " '_iterator': None}"
      ]
     },
     "execution_count": 20,
     "metadata": {},
     "output_type": "execute_result"
    }
   ],
   "source": [
    "vars(dataloader)"
   ]
  },
  {
   "cell_type": "code",
   "execution_count": null,
   "metadata": {},
   "outputs": [],
   "source": []
  }
 ],
 "metadata": {
  "interpreter": {
   "hash": "9540b84e393498cb50b584a75dda43201c9f3d00c7841c7191755d6e197bf401"
  },
  "kernelspec": {
   "display_name": "Python 3 (ipykernel)",
   "language": "python",
   "name": "python3"
  },
  "language_info": {
   "codemirror_mode": {
    "name": "ipython",
    "version": 3
   },
   "file_extension": ".py",
   "mimetype": "text/x-python",
   "name": "python",
   "nbconvert_exporter": "python",
   "pygments_lexer": "ipython3",
   "version": "3.8.8"
  }
 },
 "nbformat": 4,
 "nbformat_minor": 2
}
