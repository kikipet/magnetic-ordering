{
 "cells": [
  {
   "cell_type": "code",
   "execution_count": 1,
   "metadata": {},
   "outputs": [],
   "source": [
    "import torch\n",
    "from pymatgen.ext.matproj import MPRester\n",
    "import analyzer as a"
   ]
  },
  {
   "cell_type": "code",
   "execution_count": 2,
   "metadata": {},
   "outputs": [
    {
     "name": "stderr",
     "output_type": "stream",
     "text": [
      "100%|██████████| 31739/31739 [03:35<00:00, 147.48it/s]\n"
     ]
    }
   ],
   "source": [
    "order_encode = {\"NM\": 0, \"AFM\": 1, \"FM\": 2, \"FiM\": 2}\n",
    "\n",
    "magnetic_atoms = ['Ga', 'Tm', 'Y', 'Dy', 'Nb', 'Pu', 'Th', 'Er', 'U',\n",
    "                  'Cr', 'Sc', 'Pr', 'Re', 'Ni', 'Np', 'Nd', 'Yb', 'Ce',\n",
    "                  'Ti', 'Mo', 'Cu', 'Fe', 'Sm', 'Gd', 'V', 'Co', 'Eu',\n",
    "                  'Ho', 'Mn', 'Os', 'Tb', 'Ir', 'Pt', 'Rh', 'Ru']\n",
    "\n",
    "m = MPRester(endpoint=None, include_user_agent=True)\n",
    "structures = m.query(criteria={\"elements\": {\"$in\": magnetic_atoms}, 'blessed_tasks.GGA+U Static': {'$exists': True}}, properties=[\"material_id\", \"pretty_formula\", \"structure\", \"blessed_tasks\", \"nsites\"])\n",
    "\n",
    "structures_copy = structures.copy()\n",
    "for struc in structures_copy:\n",
    "    if len(struc[\"structure\"]) > 250:\n",
    "        structures.remove(struc)\n",
    "        print(\"MP Structure Deleted\")\n",
    "\n",
    "struct_analysers = []\n",
    "for i in range(len(structures)):\n",
    "    order = a.CollinearMagneticStructureAnalyzer(structures[i][\"structure\"])\n",
    "    struct_analysers.append(order)"
   ]
  },
  {
   "cell_type": "code",
   "execution_count": 21,
   "metadata": {},
   "outputs": [
    {
     "data": {
      "text/plain": [
       "('mp-1036765', <Ordering.FiM: 'FiM'>)"
      ]
     },
     "execution_count": 21,
     "metadata": {},
     "output_type": "execute_result"
    }
   ],
   "source": [
    "ndx = 4\n",
    "structures[ndx]['material_id'], struct_analysers[ndx].ordering"
   ]
  },
  {
   "cell_type": "code",
   "execution_count": 22,
   "metadata": {},
   "outputs": [
    {
     "data": {
      "text/plain": [
       "array([ 0.   ,  0.   ,  0.   ,  0.   ,  0.   ,  0.   ,  0.   ,  0.   ,\n",
       "        0.   ,  0.   ,  0.   ,  0.   ,  0.   ,  0.   ,  0.   ,  0.   ,\n",
       "        0.   ,  0.   ,  0.   ,  0.   ,  0.   ,  0.   ,  0.   ,  0.   ,\n",
       "        0.   ,  0.   ,  0.   ,  0.   ,  0.   ,  0.   , -2.22 ,  2.629,\n",
       "        0.   ,  0.   ,  0.   ,  0.   ,  0.   ,  0.   ,  0.   ,  0.   ,\n",
       "        0.   ,  0.   ,  0.   ,  0.   ,  0.   ,  0.   ,  0.   ,  0.   ,\n",
       "        0.   ,  0.   ,  0.   ,  0.   ,  0.   ,  0.   ,  0.   ,  0.   ,\n",
       "        0.   ,  0.   ,  0.   ,  0.   ,  0.   ,  0.   ,  0.   ,  0.   ])"
      ]
     },
     "execution_count": 22,
     "metadata": {},
     "output_type": "execute_result"
    }
   ],
   "source": [
    "struct_analysers[ndx].magmoms"
   ]
  },
  {
   "cell_type": "code",
   "execution_count": 23,
   "metadata": {},
   "outputs": [
    {
     "data": {
      "text/plain": [
       "0.4089999999999998"
      ]
     },
     "execution_count": 23,
     "metadata": {},
     "output_type": "execute_result"
    }
   ],
   "source": [
    "sum(struct_analysers[ndx].magmoms)"
   ]
  },
  {
   "cell_type": "code",
   "execution_count": 28,
   "metadata": {},
   "outputs": [
    {
     "data": {
      "text/plain": [
       "{'magmom': [0.001,\n",
       "  -0.001,\n",
       "  0.001,\n",
       "  -0.001,\n",
       "  -0.0,\n",
       "  0.0,\n",
       "  -0.0,\n",
       "  -0.0,\n",
       "  -0.0,\n",
       "  -0.0,\n",
       "  -0.0,\n",
       "  -0.0,\n",
       "  -0.0,\n",
       "  -0.0,\n",
       "  -0.0,\n",
       "  -0.0,\n",
       "  -0.0,\n",
       "  -0.0,\n",
       "  -0.0,\n",
       "  -0.0,\n",
       "  -0.0,\n",
       "  -0.0,\n",
       "  0.0,\n",
       "  -0.0,\n",
       "  0.0,\n",
       "  -0.0,\n",
       "  0.0,\n",
       "  -0.0,\n",
       "  0.0,\n",
       "  -0.0,\n",
       "  2.22,\n",
       "  -2.629,\n",
       "  -0.004,\n",
       "  0.03,\n",
       "  -0.0,\n",
       "  0.001,\n",
       "  -0.004,\n",
       "  0.03,\n",
       "  -0.0,\n",
       "  0.001,\n",
       "  0.0,\n",
       "  0.0,\n",
       "  0.0,\n",
       "  0.0,\n",
       "  0.0,\n",
       "  0.0,\n",
       "  0.0,\n",
       "  0.0,\n",
       "  0.025,\n",
       "  0.025,\n",
       "  0.001,\n",
       "  0.001,\n",
       "  0.001,\n",
       "  0.001,\n",
       "  0.0,\n",
       "  0.0,\n",
       "  -0.004,\n",
       "  0.03,\n",
       "  -0.004,\n",
       "  0.03,\n",
       "  -0.0,\n",
       "  0.001,\n",
       "  -0.0,\n",
       "  0.001]}"
      ]
     },
     "execution_count": 28,
     "metadata": {},
     "output_type": "execute_result"
    }
   ],
   "source": [
    "structures[ndx]['structure'].site_properties"
   ]
  },
  {
   "cell_type": "code",
   "execution_count": null,
   "metadata": {},
   "outputs": [],
   "source": [
    "# mp-1013796: FiM, real: FM\n",
    "# mp-1011260: FiM, real: AFM, sum=0.085, max=0.95\n",
    "# "
   ]
  }
 ],
 "metadata": {
  "interpreter": {
   "hash": "2a76aca0647ecd8dec4c3fdc40dacc2d3e474d7a7a3cb408df2817eb18c7a4f4"
  },
  "kernelspec": {
   "display_name": "Python 3.8.12 ('e3nn_new')",
   "language": "python",
   "name": "python3"
  },
  "language_info": {
   "codemirror_mode": {
    "name": "ipython",
    "version": 3
   },
   "file_extension": ".py",
   "mimetype": "text/x-python",
   "name": "python",
   "nbconvert_exporter": "python",
   "pygments_lexer": "ipython3",
   "version": "3.8.12"
  },
  "orig_nbformat": 4
 },
 "nbformat": 4,
 "nbformat_minor": 2
}
