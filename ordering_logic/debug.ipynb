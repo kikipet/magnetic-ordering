{
 "cells": [
  {
   "cell_type": "code",
   "execution_count": 1,
   "metadata": {},
   "outputs": [],
   "source": [
    "import torch\n",
    "import torch_scatter\n",
    "\n",
    "from data_helpers import DataPeriodicNeighbors\n",
    "from e3nn.nn.models.gate_points_2101 import Convolution, Network\n",
    "from e3nn.o3 import Irreps\n",
    "\n",
    "from pymatgen.ext.matproj import MPRester\n",
    "import pymatgen.analysis.magnetism.analyzer as pg\n",
    "import numpy as np\n",
    "import pickle\n",
    "\n",
    "import time"
   ]
  },
  {
   "cell_type": "code",
   "execution_count": 2,
   "metadata": {},
   "outputs": [
    {
     "name": "stderr",
     "output_type": "stream",
     "text": [
      "100%|██████████| 31739/31739 [04:10<00:00, 126.71it/s]\n"
     ]
    }
   ],
   "source": [
    "order_list_mp = []\n",
    "formula_list_mp = []\n",
    "sites_list = []\n",
    "structures_list = []\n",
    "y_values = []\n",
    "id_list = []\n",
    "order_encode = {\"NM\": 0, \"AFM\": 1, \"FM\": 2, \"FiM\": 2}\n",
    "\n",
    "magnetic_atoms = ['Ga', 'Tm', 'Y', 'Dy', 'Nb', 'Pu', 'Th', 'Er', 'U',\n",
    "                  'Cr', 'Sc', 'Pr', 'Re', 'Ni', 'Np', 'Nd', 'Yb', 'Ce',\n",
    "                  'Ti', 'Mo', 'Cu', 'Fe', 'Sm', 'Gd', 'V', 'Co', 'Eu',\n",
    "                  'Ho', 'Mn', 'Os', 'Tb', 'Ir', 'Pt', 'Rh', 'Ru']\n",
    "\n",
    "m = MPRester(endpoint=None, include_user_agent=True)\n",
    "structures = m.query(criteria={\"elements\": {\"$in\": magnetic_atoms}, 'blessed_tasks.GGA+U Static': {\n",
    "                     '$exists': True}}, properties=[\"material_id\", \"pretty_formula\", \"structure\", \"blessed_tasks\", \"nsites\", \"magnetism\"])"
   ]
  },
  {
   "cell_type": "code",
   "execution_count": 17,
   "metadata": {},
   "outputs": [
    {
     "data": {
      "text/plain": [
       "{'magmom': [6.426,\n",
       "  6.426,\n",
       "  4.225,\n",
       "  4.224,\n",
       "  0.057,\n",
       "  0.073,\n",
       "  0.057,\n",
       "  0.073,\n",
       "  0.083,\n",
       "  0.083]}"
      ]
     },
     "execution_count": 17,
     "metadata": {},
     "output_type": "execute_result"
    }
   ],
   "source": [
    "structures[0]['structure'].site_properties"
   ]
  },
  {
   "cell_type": "code",
   "execution_count": 3,
   "metadata": {},
   "outputs": [],
   "source": [
    "structures_copy = structures.copy()\n",
    "for struc in structures_copy:\n",
    "    if len(struc[\"structure\"]) > 250:\n",
    "        structures.remove(struc)\n",
    "        print(\"MP Structure Deleted\")\n",
    "\n",
    "# %%\n",
    "id_NM = []\n",
    "id_FM = []\n",
    "id_AFM = []\n",
    "for i in range(len(structures)):\n",
    "    if structures[i][\"ordering\"] == 'NM':\n",
    "        id_NM.append(i)\n",
    "    elif structures[i][\"ordering\"] == 'AFM':\n",
    "        id_AFM.append(i)\n",
    "    elif structures[i][\"ordering\"] == 'FM' or structures[i][\"ordering\"] == 'FiM':\n",
    "        id_FM.append(i)\n",
    "np.random.shuffle(id_FM)\n",
    "np.random.shuffle(id_NM)\n",
    "np.random.shuffle(id_AFM)\n",
    "id_AFM, id_AFM_to_delete = np.split(id_AFM, [int(len(id_AFM))])\n",
    "id_NM, id_NM_to_delete = np.split(id_NM, [int(1.2*len(id_AFM))])\n",
    "id_FM, id_FM_to_delete = np.split(id_FM, [int(1.2*len(id_AFM))])\n",
    "\n",
    "structures_mp = [structures[i] for i in id_NM] + [structures[j] for j in id_FM] + [structures[k] for k in id_AFM]\n",
    "np.random.shuffle(structures_mp)\n",
    "\n",
    "\n",
    "for structure in structures_mp:\n",
    "    order_list_mp.append(structure[\"ordering\"])\n",
    "    structures_list.append(structure[\"structure\"])\n",
    "    formula_list_mp.append(structure[\"pretty_formula\"])\n",
    "    id_list.append(structure[\"material_id\"])\n",
    "    sites_list.append(structure[\"nsites\"])\n",
    "\n",
    "\n",
    "y_values = [order_encode[order] for order in order_list_mp]\n",
    "\n",
    "elements = pickle.load(open('element_info.p', 'rb'))"
   ]
  },
  {
   "cell_type": "code",
   "execution_count": 13,
   "metadata": {},
   "outputs": [
    {
     "data": {
      "text/plain": [
       "{'material_id': 'mp-1013796',\n",
       " 'pretty_formula': 'Li3Ni2(GeO4)3',\n",
       " 'structure': Structure Summary\n",
       " Lattice\n",
       "     abc : 10.263495690955983 10.263495690955983 10.263495690955983\n",
       "  angles : 109.47122063449069 109.47122063449069 109.47122063449069\n",
       "  volume : 832.2695819600563\n",
       "       A : -5.925632 5.925632 5.925632\n",
       "       B : 5.925632 -5.925632 5.925632\n",
       "       C : 5.925632 5.925632 -5.925632\n",
       " PeriodicSite: Li (4.4442, 5.9256, 2.9628) [0.7500, 0.6250, 0.8750]\n",
       " PeriodicSite: Li (7.4070, 0.0000, 2.9628) [0.2500, 0.8750, 0.6250]\n",
       " PeriodicSite: Li (2.9628, 7.4070, 0.0000) [0.6250, 0.2500, 0.8750]\n",
       " PeriodicSite: Li (2.9628, 4.4442, 5.9256) [0.8750, 0.7500, 0.6250]\n",
       " PeriodicSite: Li (0.0000, 2.9628, 7.4070) [0.8750, 0.6250, 0.2500]\n",
       " PeriodicSite: Li (5.9256, 2.9628, 4.4442) [0.6250, 0.8750, 0.7500]\n",
       " PeriodicSite: Li (1.4814, 0.0000, 2.9628) [0.2500, 0.3750, 0.1250]\n",
       " PeriodicSite: Li (-1.4814, 5.9256, 2.9628) [0.7500, 0.1250, 0.3750]\n",
       " PeriodicSite: Li (2.9628, -1.4814, 5.9256) [0.3750, 0.7500, 0.1250]\n",
       " PeriodicSite: Li (2.9628, 1.4814, 0.0000) [0.1250, 0.2500, 0.3750]\n",
       " PeriodicSite: Li (5.9256, 2.9628, -1.4814) [0.1250, 0.3750, 0.7500]\n",
       " PeriodicSite: Li (0.0000, 2.9628, 1.4814) [0.3750, 0.1250, 0.2500]\n",
       " PeriodicSite: Ni (0.0000, 5.9256, 0.0000) [0.5000, 0.0000, 0.5000]\n",
       " PeriodicSite: Ni (2.9628, -2.9628, 2.9628) [0.0000, 0.5000, 0.0000]\n",
       " PeriodicSite: Ni (2.9628, 2.9628, 2.9628) [0.5000, 0.5000, 0.5000]\n",
       " PeriodicSite: Ni (2.9628, 2.9628, -2.9628) [0.0000, 0.0000, 0.5000]\n",
       " PeriodicSite: Ni (0.0000, 0.0000, 0.0000) [0.0000, 0.0000, 0.0000]\n",
       " PeriodicSite: Ni (5.9256, 0.0000, 0.0000) [0.0000, 0.5000, 0.5000]\n",
       " PeriodicSite: Ni (0.0000, 0.0000, 5.9256) [0.5000, 0.5000, 0.0000]\n",
       " PeriodicSite: Ni (-2.9628, 2.9628, 2.9628) [0.5000, 0.0000, 0.0000]\n",
       " PeriodicSite: Ge (5.9256, 2.9628, 1.4814) [0.3750, 0.6250, 0.7500]\n",
       " PeriodicSite: Ge (0.0000, 2.9628, 4.4442) [0.6250, 0.3750, 0.2500]\n",
       " PeriodicSite: Ge (2.9628, 1.4814, 5.9256) [0.6250, 0.7500, 0.3750]\n",
       " PeriodicSite: Ge (4.4442, 5.9256, -2.9628) [0.2500, 0.1250, 0.8750]\n",
       " PeriodicSite: Ge (-2.9628, 4.4442, 5.9256) [0.8750, 0.2500, 0.1250]\n",
       " PeriodicSite: Ge (1.4814, 5.9256, 2.9628) [0.7500, 0.3750, 0.6250]\n",
       " PeriodicSite: Ge (4.4442, 0.0000, 2.9628) [0.2500, 0.6250, 0.3750]\n",
       " PeriodicSite: Ge (1.4814, 0.0000, 8.8884) [0.7500, 0.8750, 0.1250]\n",
       " PeriodicSite: Ge (8.8884, 1.4814, 0.0000) [0.1250, 0.7500, 0.8750]\n",
       " PeriodicSite: Ge (2.9628, 4.4442, 0.0000) [0.3750, 0.2500, 0.6250]\n",
       " PeriodicSite: Ge (0.0000, 8.8884, 1.4814) [0.8750, 0.1250, 0.7500]\n",
       " PeriodicSite: Ge (5.9256, -2.9628, 4.4442) [0.1250, 0.8750, 0.2500]\n",
       " PeriodicSite: O (4.1772, 5.5908, 0.6072) [0.5230, 0.4037, 0.8242]\n",
       " PeriodicSite: O (0.6072, 4.1772, 5.5908) [0.8242, 0.5230, 0.4037]\n",
       " PeriodicSite: O (6.2605, 5.3184, 4.1772) [0.8012, 0.8807, 0.9770]\n",
       " PeriodicSite: O (1.7484, 5.5908, -0.6072) [0.4205, 0.0963, 0.6193]\n",
       " PeriodicSite: O (-2.3556, 3.2977, 7.1400) [0.8807, 0.4037, 0.0795]\n",
       " PeriodicSite: O (0.6072, 7.6740, 0.3349) [0.6758, 0.0795, 0.6988]\n",
       " PeriodicSite: O (2.3556, 2.6280, 7.1400) [0.8242, 0.8012, 0.4205]\n",
       " PeriodicSite: O (5.5908, 0.6072, 4.1772) [0.4037, 0.8242, 0.5230]\n",
       " PeriodicSite: O (3.5700, 2.6280, 4.7112) [0.6193, 0.6988, 0.5230]\n",
       " PeriodicSite: O (7.1400, 2.3556, 2.6280) [0.4205, 0.8242, 0.8012]\n",
       " PeriodicSite: O (3.2977, 7.1400, -2.3556) [0.4037, 0.0795, 0.8807]\n",
       " PeriodicSite: O (9.2233, -1.2144, 2.3556) [0.0963, 0.9770, 0.6758]\n",
       " PeriodicSite: O (-1.2144, 2.3556, 9.2233) [0.9770, 0.6758, 0.0963]\n",
       " PeriodicSite: O (2.6280, 7.1400, 2.3556) [0.8012, 0.4205, 0.8242]\n",
       " PeriodicSite: O (4.7112, 3.5700, 2.6280) [0.5230, 0.6193, 0.6988]\n",
       " PeriodicSite: O (2.6280, 4.7112, 3.5700) [0.6988, 0.5230, 0.6193]\n",
       " PeriodicSite: O (7.1400, -2.3556, 3.2977) [0.0795, 0.8807, 0.4037]\n",
       " PeriodicSite: O (4.1772, 6.2605, 5.3184) [0.9770, 0.8012, 0.8807]\n",
       " PeriodicSite: O (7.6740, 0.3349, 0.6072) [0.0795, 0.6988, 0.6758]\n",
       " PeriodicSite: O (2.3556, 3.2977, 1.2144) [0.3807, 0.3012, 0.4770]\n",
       " PeriodicSite: O (-0.6072, 1.7484, 5.5908) [0.6193, 0.4205, 0.0963]\n",
       " PeriodicSite: O (5.5908, -0.6072, 1.7484) [0.0963, 0.6193, 0.4205]\n",
       " PeriodicSite: O (0.3349, 0.6072, 7.6740) [0.6988, 0.6758, 0.0795]\n",
       " PeriodicSite: O (2.3556, 9.2233, -1.2144) [0.6758, 0.0963, 0.9770]\n",
       " PeriodicSite: O (1.7484, 0.3349, 5.3184) [0.4770, 0.5963, 0.1758]\n",
       " PeriodicSite: O (5.3184, 1.7484, 0.3349) [0.1758, 0.4770, 0.5963]\n",
       " PeriodicSite: O (-0.3349, 0.6072, 1.7484) [0.1988, 0.1193, 0.0230]\n",
       " PeriodicSite: O (4.1772, 0.3349, 6.5329) [0.5795, 0.9037, 0.3807]\n",
       " PeriodicSite: O (8.2812, 2.6280, -1.2144) [0.1193, 0.5963, 0.9205]\n",
       " PeriodicSite: O (5.3184, -1.7484, 5.5908) [0.3242, 0.9205, 0.3012]\n",
       " PeriodicSite: O (3.5700, 3.2977, -1.2144) [0.1758, 0.1988, 0.5795]\n",
       " PeriodicSite: O (0.3349, 5.3184, 1.7484) [0.5963, 0.1758, 0.4770]\n",
       " PeriodicSite: O (3.5700, -3.2977, 7.1400) [0.3242, 0.9037, 0.0230]\n",
       " PeriodicSite: O (5.5908, 5.3184, -1.7484) [0.3012, 0.3242, 0.9205]\n",
       " PeriodicSite: O (0.3349, 6.5329, 4.1772) [0.9037, 0.3807, 0.5795]\n",
       " PeriodicSite: O (0.6072, 1.7484, -0.3349) [0.1193, 0.0230, 0.1988]\n",
       " PeriodicSite: O (6.5329, 4.1772, 0.3349) [0.3807, 0.5795, 0.9037]\n",
       " PeriodicSite: O (-1.7484, 5.5908, 5.3184) [0.9205, 0.3012, 0.3242]\n",
       " PeriodicSite: O (1.7484, -0.3349, 0.6072) [0.0230, 0.1988, 0.1193]\n",
       " PeriodicSite: O (-1.2144, 8.2812, 2.6280) [0.9205, 0.1193, 0.5963]\n",
       " PeriodicSite: O (3.2977, 1.2144, 2.3556) [0.3012, 0.4770, 0.3807]\n",
       " PeriodicSite: O (1.2144, 2.3556, 3.2977) [0.4770, 0.3807, 0.3012]\n",
       " PeriodicSite: O (3.2977, -1.2144, 3.5700) [0.1988, 0.5795, 0.1758]\n",
       " PeriodicSite: O (7.1400, 3.5700, -3.2977) [0.0230, 0.3242, 0.9037]\n",
       " PeriodicSite: O (-3.2977, 7.1400, 3.5700) [0.9037, 0.0230, 0.3242]\n",
       " PeriodicSite: O (2.6280, -1.2144, 8.2812) [0.5963, 0.9205, 0.1193]\n",
       " PeriodicSite: O (-1.2144, 3.5700, 3.2977) [0.5795, 0.1758, 0.1988]\n",
       " PeriodicSite: O (5.3184, 4.1772, 6.2605) [0.8807, 0.9770, 0.8012],\n",
       " 'blessed_tasks': {'GGA+U NSCF Uniform': 'mp-1013906',\n",
       "  'GGA+U Static': 'mp-1329962'},\n",
       " 'nsites': 80,\n",
       " 'ordering': None}"
      ]
     },
     "execution_count": 13,
     "metadata": {},
     "output_type": "execute_result"
    }
   ],
   "source": [
    "structures[1]"
   ]
  },
  {
   "cell_type": "code",
   "execution_count": 4,
   "metadata": {},
   "outputs": [
    {
     "name": "stdout",
     "output_type": "stream",
     "text": [
      "Length of embedding feature vector:  64 \n",
      "Number of channels per irreducible representation:  32 \n",
      "Number of tensor field convolution layers:   2 \n",
      "Maximum radius: 5.0 \n",
      "Number of basis:  10 \n",
      "AdamW optimizer learning rate: 0.0050 \n",
      "AdamW optimizer weight decay coefficient: 0.0300\n"
     ]
    }
   ],
   "source": [
    "torch.set_default_dtype(torch.float64)\n",
    "\n",
    "device = torch.device(\"cuda\" if torch.cuda.is_available() else \"cpu\")\n",
    "\n",
    "params = {'len_embed_feat': 64,\n",
    "          'num_channel_irrep': 32,\n",
    "          'num_e3nn_layer': 2,\n",
    "          'max_radius': 5,\n",
    "          'num_basis': 10,\n",
    "          'adamw_lr': 0.005,\n",
    "          'adamw_wd': 0.03,\n",
    "          'radial_layers': 3\n",
    "          }\n",
    "\n",
    "# Used for debugging\n",
    "identification_tag = \"1:1:1.1 Relu wd:0.03 4 Linear\"\n",
    "cost_multiplier = 1.0\n",
    "\n",
    "print('Length of embedding feature vector: {:3d} \\n'.format(params.get('len_embed_feat')) +\n",
    "      'Number of channels per irreducible representation: {:3d} \\n'.format(params.get('num_channel_irrep')) +\n",
    "      'Number of tensor field convolution layers: {:3d} \\n'.format(params.get('num_e3nn_layer')) +\n",
    "      'Maximum radius: {:3.1f} \\n'.format(params.get('max_radius')) +\n",
    "      'Number of basis: {:3d} \\n'.format(params.get('num_basis')) +\n",
    "      'AdamW optimizer learning rate: {:.4f} \\n'.format(params.get('adamw_lr')) +\n",
    "      'AdamW optimizer weight decay coefficient: {:.4f}'.format(\n",
    "          params.get('adamw_wd'))\n",
    "      )"
   ]
  },
  {
   "cell_type": "code",
   "execution_count": 7,
   "metadata": {},
   "outputs": [
    {
     "data": {
      "text/plain": [
       "[]"
      ]
     },
     "execution_count": 7,
     "metadata": {},
     "output_type": "execute_result"
    }
   ],
   "source": [
    "structures_list"
   ]
  },
  {
   "cell_type": "code",
   "execution_count": 5,
   "metadata": {},
   "outputs": [
    {
     "name": "stdout",
     "output_type": "stream",
     "text": [
      "Distinct atomic species  0\n"
     ]
    }
   ],
   "source": [
    "species = set()\n",
    "count = 0\n",
    "for struct in structures_list[:]:\n",
    "    try:\n",
    "        species = species.union(list(set(map(str, struct.species))))\n",
    "        count += 1\n",
    "    except:\n",
    "        print(count)\n",
    "        count += 1\n",
    "        continue\n",
    "species = sorted(list(species))\n",
    "print(\"Distinct atomic species \", len(species))\n",
    "\n",
    "len_element = 118\n",
    "atom_types_dim = 3*len_element\n",
    "embedding_dim = params['len_embed_feat']\n",
    "lmax = 1\n",
    "# Roughly the average number (over entire dataset) of nearest neighbors for a given atom\n",
    "n_norm = 35"
   ]
  },
  {
   "cell_type": "code",
   "execution_count": null,
   "metadata": {},
   "outputs": [],
   "source": [
    "input = torch.zeros(len(structures_list[0]), 3*len_element)\n",
    "for j, site in enumerate(structures_list[0]):\n",
    "    input[j, int(elements[str(site.specie)]['atomic_number'])] = elements[str(site.specie)]['atomic_radius']\n",
    "    input[j, len_element + int(elements[str(site.specie)]['atomic_number']) + 1] = elements[str(site.specie)]['en_pauling']\n",
    "    input[j, 2*len_element + int(elements[str(site.specie)]['atomic_number']) + 1] = elements[str(site.specie)]['dipole_polarizability']\n",
    "dn = (DataPeriodicNeighbors(\n",
    "    x=input, Rs_in=None,\n",
    "    pos=torch.tensor(structures_list[0].cart_coords.copy()), lattice=structures_list[0].tensor(struct.lattice.matrix.copy()),\n",
    "    r_max=params['max_radius'],\n",
    "    y=(torch.tensor([y_values[i]])).to(torch.long),\n",
    "    n_norm=n_norm,\n",
    "    order = structures_list[0]\n",
    "))"
   ]
  },
  {
   "cell_type": "code",
   "execution_count": null,
   "metadata": {},
   "outputs": [],
   "source": [
    "data = []\n",
    "count = 0\n",
    "indices_to_delete = []\n",
    "for i, struct in enumerate(structures_list):\n",
    "    try:\n",
    "        print(\n",
    "            f\"Encoding sample {i+1:5d}/{len(structures_list):5d}\", end=\"\\r\", flush=True)\n",
    "        input = torch.zeros(len(struct), 3*len_element)\n",
    "        for j, site in enumerate(struct):\n",
    "            input[j, int(elements[str(site.specie)]['atomic_number'])] = elements[str(site.specie)]['atomic_radius']\n",
    "            input[j, len_element + int(elements[str(site.specie)]['atomic_number']) + 1] = elements[str(site.specie)]['en_pauling']\n",
    "            input[j, 2*len_element + int(elements[str(site.specie)]['atomic_number']) + 1] = elements[str(site.specie)]['dipole_polarizability']\n",
    "        data.append(DataPeriodicNeighbors(\n",
    "            x=input, Rs_in=None,\n",
    "            pos=torch.tensor(struct.cart_coords.copy()), lattice=torch.tensor(struct.lattice.matrix.copy()),\n",
    "            r_max=params['max_radius'],\n",
    "            y=(torch.tensor([y_values[i]])).to(torch.long),\n",
    "            n_norm=n_norm,\n",
    "            order = struct\n",
    "        ))\n",
    "\n",
    "        count += 1\n",
    "    except Exception as e:\n",
    "        indices_to_delete.append(i)\n",
    "        print(f\"Error: {count} {e}\", end=\"\\n\")\n",
    "        count += 1\n",
    "        continue"
   ]
  }
 ],
 "metadata": {
  "interpreter": {
   "hash": "2a76aca0647ecd8dec4c3fdc40dacc2d3e474d7a7a3cb408df2817eb18c7a4f4"
  },
  "kernelspec": {
   "display_name": "Python 3.8.12 ('e3nn_new')",
   "language": "python",
   "name": "python3"
  },
  "language_info": {
   "codemirror_mode": {
    "name": "ipython",
    "version": 3
   },
   "file_extension": ".py",
   "mimetype": "text/x-python",
   "name": "python",
   "nbconvert_exporter": "python",
   "pygments_lexer": "ipython3",
   "version": "3.8.12"
  },
  "orig_nbformat": 4
 },
 "nbformat": 4,
 "nbformat_minor": 2
}
